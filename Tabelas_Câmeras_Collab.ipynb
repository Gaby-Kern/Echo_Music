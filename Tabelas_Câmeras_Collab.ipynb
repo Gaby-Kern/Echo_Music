{
  "nbformat": 4,
  "nbformat_minor": 0,
  "metadata": {
    "colab": {
      "provenance": []
    },
    "kernelspec": {
      "name": "python3",
      "display_name": "Python 3"
    },
    "language_info": {
      "name": "python"
    }
  },
  "cells": [
    {
      "cell_type": "code",
      "execution_count": null,
      "metadata": {
        "id": "qCWpa7nZg6Rb"
      },
      "outputs": [],
      "source": [
        "Célula de código <MTcGzA4oY8oz>\n",
        "# %% [code]\n",
        "import pandas as pd\n",
        "import numpy as np\n",
        "from datetime import datetime, timedelta\n",
        "\n",
        "# Parâmetros\n",
        "start_time = datetime(2025, 11, 15, 15, 0, 0)  # 3h antes do evento\n",
        "end_time = datetime(2025, 11, 16, 5, 0, 0)    # 3h depois do evento\n",
        "interval_seconds = 10\n",
        "camera_ids = [f'Camera_{i}' for i in range(1, 6)]  # 5 câmeras\n",
        "\n",
        "# Criar timestamps em intervalos de 10 segundos\n",
        "timestamps = pd.date_range(start=start_time, end=end_time, freq=f'{interval_seconds}s')\n",
        "\n",
        "# Gerar id_frame\n",
        "total_records = len(timestamps) * len(camera_ids)\n",
        "id_frames = range(1, total_records + 1)\n",
        "\n",
        "# DataFrame base expandindo para todas as câmeras\n",
        "df = pd.DataFrame({\n",
        "    'timestamp': np.repeat(timestamps, len(camera_ids)),\n",
        "    'localizacao_camera': camera_ids * len(timestamps),\n",
        "    'id_frame': id_frames\n",
        "})\n",
        "\n",
        "# Função para gerar eventos contínuos (True sequencial) aleatórios para cada tipo\n",
        "def generate_events(series_length, max_event_duration, prob_event_start):\n",
        "    # Inicialmente, tudo False\n",
        "    events = np.zeros(series_length, dtype=bool)\n",
        "    i = 0\n",
        "    while i < series_length:\n",
        "        if np.random.rand() < prob_event_start:\n",
        "            duration = np.random.randint(6, max_event_duration)  # duração em número de frames (ex: 6*10s = 1min)\n",
        "            end = min(i + duration, series_length)\n",
        "            events[i:end] = True\n",
        "            i = end\n",
        "        else:\n",
        "            i += 1\n",
        "    return events\n",
        "\n",
        "# Aplicar por câmera\n",
        "def apply_events(df, max_event_duration, prob_event_start):\n",
        "    event_column = []\n",
        "    for cam in camera_ids:\n",
        "        mask = df['localizacao_camera'] == cam\n",
        "        length = mask.sum()\n",
        "        event_col = generate_events(length, max_event_duration, prob_event_start)\n",
        "        event_column.extend(event_col)\n",
        "    return event_column\n",
        "\n",
        "# Gerar eventos\n",
        "np.random.seed(42)  # para reprodução\n",
        "\n",
        "# Aglomeração: eventos até 30 min (180 frames), com chance moderada de começar\n",
        "df['aglomeração'] = apply_events(df, max_event_duration=180, prob_event_start=0.02)\n",
        "\n",
        "# Veículo parado: eventos até 10 min (60 frames), chance menor\n",
        "df['veiculo_parado'] = apply_events(df, max_event_duration=60, prob_event_start=0.01)\n",
        "\n",
        "# Pessoa caída: eventos até 5 min (30 frames), muito raros\n",
        "df['pessoa_caida'] = apply_events(df, max_event_duration=30, prob_event_start=0.005)\n",
        "\n",
        "# Mostrar as primeiras linhas para conferir\n",
        "print(df.head())\n",
        "\n",
        "# Salvar em CSV\n",
        "df.to_csv('dados_sensor_urbano.csv', index=False)\n",
        "print(\"Arquivo 'dados_sensor_urbano.csv' criado com sucesso!\")\n",
        "\n",
        "Saída da execução\n",
        "1KB\n",
        "\tStream\n",
        "\t\ttimestamp localizacao_camera  id_frame  aglomeração  \\\n",
        "\t\t0 2025-11-15 15:00:00           Camera_1         1        False\n",
        "\t\t1 2025-11-15 15:00:00           Camera_2         2        False\n",
        "\t\t2 2025-11-15 15:00:00           Camera_3         3        False\n",
        "\t\t3 2025-11-15 15:00:00           Camera_4         4        False\n",
        "\t\t4 2025-11-15 15:00:00           Camera_5         5        False\n",
        "\n",
        "\t\t   veiculo_parado  pessoa_caida\n",
        "\t\t0           False         False\n",
        "\t\t1           False         False\n",
        "\t\t2           False         False\n",
        "\t\t3           False         False\n",
        "\t\t4           False         False\n",
        "\t\tArquivo 'dados_sensor_urbano.csv' criado com sucesso!"
      ]
    },
    {
      "cell_type": "code",
      "source": [
        "import pandas as pd\n",
        "\n",
        "df = pd.read_csv('cameras_publicas.csv')"
      ],
      "metadata": {
        "id": "X3xMdJZWg7I3"
      },
      "execution_count": 3,
      "outputs": []
    },
    {
      "cell_type": "code",
      "source": [
        "print(df.columns)\n"
      ],
      "metadata": {
        "colab": {
          "base_uri": "https://localhost:8080/"
        },
        "id": "_G61820ng7Gf",
        "outputId": "dc3b07d1-aa12-40a3-ee8c-7cea1c2c268e"
      },
      "execution_count": 4,
      "outputs": [
        {
          "output_type": "stream",
          "name": "stdout",
          "text": [
            "Index(['timestamp', 'localizacao_camera', 'id_frame', 'aglomeração',\n",
            "       'veiculo_parado', 'pessoa_caida'],\n",
            "      dtype='object')\n"
          ]
        }
      ]
    },
    {
      "cell_type": "code",
      "source": [
        "import pandas as pd\n",
        "\n",
        "# Carregar o DataFrame\n",
        "cameras_publicas = pd.read_csv('cameras_publicas.csv')\n",
        "\n",
        "# Derreter as colunas de eventos para criar coluna 'tipo_ocorrencia'\n",
        "cameras_melted = cameras_publicas.melt(\n",
        "    id_vars=['timestamp', 'localizacao_camera', 'id_frame'],\n",
        "    value_vars=['aglomeração', 'veiculo_parado', 'pessoa_caida'],\n",
        "    var_name='tipo_ocorrencia',\n",
        "    value_name='ocorreu'\n",
        ")\n",
        "\n",
        "# Filtrar apenas ocorrências\n",
        "ocorrencias = cameras_melted[cameras_melted['ocorreu'] == True].copy()\n",
        "\n",
        "# Converter timestamp\n",
        "ocorrencias['timestamp'] = pd.to_datetime(ocorrencias['timestamp'])\n",
        "\n",
        "# Ordenar\n",
        "ocorrencias = ocorrencias.sort_values(['localizacao_camera', 'tipo_ocorrencia', 'timestamp'])\n",
        "\n",
        "# Definir limite de tempo para continuidade de evento\n",
        "limite_tempo = pd.Timedelta(seconds=60)\n",
        "\n",
        "# Função para identificar sequências\n",
        "def identificar_sequencias(grupo):\n",
        "    grupo = grupo.copy()\n",
        "    grupo['delta'] = grupo['timestamp'].diff().fillna(pd.Timedelta(seconds=0))\n",
        "    grupo['nova_seq'] = (grupo['delta'] > limite_tempo).cumsum()\n",
        "    return grupo\n",
        "\n",
        "# Aplicar\n",
        "ocorrencias = ocorrencias.groupby(['localizacao_camera', 'tipo_ocorrencia']).apply(\n",
        "    identificar_sequencias, include_groups=False).reset_index()\n",
        "\n",
        "\n",
        "# Agrupar por sequências\n",
        "duracoes = ocorrencias.groupby(['localizacao_camera', 'tipo_ocorrencia', 'nova_seq']).agg(\n",
        "    inicio=('timestamp', 'min'),\n",
        "    fim=('timestamp', 'max'),\n",
        "    frames=('id_frame', 'count')\n",
        ").reset_index()\n",
        "\n",
        "# Calcular duração\n",
        "duracoes['duracao_segundos'] = (duracoes['fim'] - duracoes['inicio']).dt.total_seconds()\n",
        "\n",
        "# --- Consolidar todas as métricas em uma tabela só ---\n",
        "\n",
        "tabela_resumo = duracoes.groupby(['localizacao_camera', 'tipo_ocorrencia']).agg(\n",
        "    quantidade_eventos=('duracao_segundos', 'count'),\n",
        "    duracao_media_segundos=('duracao_segundos', 'mean'),\n",
        "    duracao_mediana_segundos=('duracao_segundos', 'median'),\n",
        "    duracao_maxima_segundos=('duracao_segundos', 'max'),\n",
        "    duracao_minima_segundos=('duracao_segundos', 'min'),\n",
        "    total_duracao_segundos=('duracao_segundos', 'sum')\n",
        ").reset_index()\n",
        "\n",
        "# Exportar\n",
        "tabela_resumo.to_csv('resumo_eventos.csv', index=False)\n",
        "\n",
        "print('✅ Tabela consolidada criada e exportada como \"resumo_eventos.csv\"')\n"
      ],
      "metadata": {
        "colab": {
          "base_uri": "https://localhost:8080/"
        },
        "id": "xTHLCPLUg7B-",
        "outputId": "61181fe6-c35d-4f90-c890-10139155793b"
      },
      "execution_count": 9,
      "outputs": [
        {
          "output_type": "stream",
          "name": "stdout",
          "text": [
            "✅ Tabela consolidada criada e exportada como \"resumo_eventos.csv\"\n"
          ]
        }
      ]
    },
    {
      "cell_type": "code",
      "source": [],
      "metadata": {
        "id": "0HrFaItBg6_v"
      },
      "execution_count": null,
      "outputs": []
    },
    {
      "cell_type": "code",
      "source": [],
      "metadata": {
        "id": "BgpwIivAg69H"
      },
      "execution_count": null,
      "outputs": []
    }
  ]
}