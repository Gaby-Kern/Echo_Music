{
  "nbformat": 4,
  "nbformat_minor": 0,
  "metadata": {
    "colab": {
      "provenance": []
    },
    "kernelspec": {
      "name": "python3",
      "display_name": "Python 3"
    },
    "language_info": {
      "name": "python"
    }
  },
  "cells": [
    {
      "cell_type": "code",
      "source": [
        "import pandas as pd\n",
        "import numpy as np\n",
        "import random\n",
        "\n",
        "# Parâmetros\n",
        "n = 10000  # Volume realista e útil para mapas de calor\n",
        "data_inicio = pd.to_datetime('2025-11-15 15:00:00')  # 3h antes do evento\n",
        "data_fim = pd.to_datetime('2025-11-16 05:00:00')  # 3h depois do evento\n",
        "\n",
        "# Datas em intervalos regulares\n",
        "datas = pd.date_range(data_inicio, data_fim, periods=n)\n",
        "\n",
        "# Localizações dos sensores\n",
        "locais = ['Norte', 'Sul', 'Leste', 'Oeste', 'Centro']\n",
        "\n",
        "# Gerando os dados\n",
        "data = {\n",
        "    'data_coleta': datas,\n",
        "    'nivel_ruido_db': np.random.normal(loc=65, scale=10, size=n),  # média 65 dB\n",
        "    'poluente_pm25': np.random.normal(loc=35, scale=15, size=n),  # média 35 µg/m³\n",
        "    'densidade_pessoas_m2': np.clip(np.random.normal(loc=2, scale=1, size=n), 0, None),\n",
        "    'sensor_localizacao': np.random.choice(locais, size=n)\n",
        "}\n",
        "\n",
        "df = pd.DataFrame(data)\n",
        "\n",
        "# Campo calculado: alerta\n",
        "df['alerta'] = (df['nivel_ruido_db'] > 80) | (df['densidade_pessoas_m2'] > 4)\n",
        "\n",
        "# Ajustando formatos\n",
        "df['nivel_ruido_db'] = df['nivel_ruido_db'].round(2)\n",
        "df['poluente_pm25'] = df['poluente_pm25'].round(2)\n",
        "df['densidade_pessoas_m2'] = df['densidade_pessoas_m2'].round(2)\n",
        "\n",
        "# Exportando para CSV\n",
        "df.to_csv('sensores_urbanos.csv', index=False)\n",
        "\n",
        "print(\"✅ Dataset 'sensores_urbanos.csv' gerado com sucesso.\")\n",
        "\n",
        "Saída da execução\n",
        "0KB\n",
        "\tStream\n",
        "\t\t✅ Dataset 'sensores_urbanos.csv' gerado com sucesso.\n",
        "\n",
        "\n"
      ],
      "metadata": {
        "id": "czVXTWRwgQir"
      },
      "execution_count": null,
      "outputs": []
    },
    {
      "cell_type": "code",
      "execution_count": 2,
      "metadata": {
        "colab": {
          "base_uri": "https://localhost:8080/"
        },
        "id": "aBF4shR7VkNM",
        "outputId": "ad658a5e-b8bd-4e09-c2a0-2c323dccc4c4"
      },
      "outputs": [
        {
          "output_type": "stream",
          "name": "stdout",
          "text": [
            "Mapa de Calor - Aglomerações por Localização\n",
            "  localizacao_camera  qtd_aglomeracoes\n",
            "0           Camera_1              3185\n",
            "1           Camera_2              3179\n",
            "2           Camera_3              3184\n",
            "3           Camera_4              3178\n",
            "4           Camera_5              3178\n",
            "\n",
            "Série Temporal - Evolução das Aglomerações e outros eventos\n",
            "        timestamp_hora  aglomeração  veiculo_parado  pessoa_caida\n",
            "0  2025-11-15 15:00:00         1031             432           124\n",
            "1  2025-11-15 16:00:00         1104             373            81\n",
            "2  2025-11-15 17:00:00         1004             305           154\n",
            "3  2025-11-15 18:00:00         1105             389           299\n",
            "4  2025-11-15 19:00:00         1278             307            83\n",
            "5  2025-11-15 20:00:00         1232             395           126\n",
            "6  2025-11-15 21:00:00          938             454           225\n",
            "7  2025-11-15 22:00:00         1144             376           114\n",
            "8  2025-11-15 23:00:00         1060             520           206\n",
            "9  2025-11-16 00:00:00         1222             303           110\n",
            "10 2025-11-16 01:00:00         1024             354           160\n",
            "11 2025-11-16 02:00:00         1253             518           278\n",
            "12 2025-11-16 03:00:00         1389             396           112\n",
            "13 2025-11-16 04:00:00         1120             481           172\n",
            "14 2025-11-16 05:00:00            0               0             0\n",
            "\n",
            "Pie Chart - Proporção de Eventos Registrados\n",
            "           evento  qtd_ocorrencias\n",
            "0     Aglomeração            15904\n",
            "1  Veículo parado             5603\n",
            "2    Pessoa caída             2244\n"
          ]
        },
        {
          "output_type": "stream",
          "name": "stderr",
          "text": [
            "<ipython-input-2-6cdb35c59760>:27: FutureWarning: 'H' is deprecated and will be removed in a future version, please use 'h' instead.\n",
            "  df_sensor['timestamp_hora'] = df_sensor['timestamp'].dt.floor('H')\n"
          ]
        }
      ],
      "source": [
        "import pandas as pd\n",
        "\n",
        "# Convertendo timestamp para datetime\n",
        "df_sensor['timestamp'] = pd.to_datetime(df_sensor['timestamp'])\n",
        "\n",
        "### =====================================\n",
        "### 1. Dados para o Mapa de Calor de Aglomerações por Localização\n",
        "### =====================================\n",
        "\n",
        "# Filtra apenas registros com aglomeração True\n",
        "df_aglomeracao = df_sensor[df_sensor['aglomeração'] == True]\n",
        "\n",
        "# Conta número de aglomerações por local\n",
        "df_mapa_calor = df_aglomeracao.groupby('localizacao_camera').size().reset_index(name='qtd_aglomeracoes')\n",
        "\n",
        "print(\"Mapa de Calor - Aglomerações por Localização\")\n",
        "print(df_mapa_calor)\n",
        "\n",
        "### =====================================\n",
        "### 2. Dados para a Série Temporal - Evolução das Aglomerações\n",
        "### =====================================\n",
        "\n",
        "# Cria uma coluna de timestamp arredondada por hora\n",
        "df_sensor['timestamp_hora'] = df_sensor['timestamp'].dt.floor('H')\n",
        "\n",
        "# Agrega quantidade de eventos True por hora\n",
        "df_series_temporal = df_sensor.groupby('timestamp_hora').agg({\n",
        "    'aglomeração': 'sum',\n",
        "    'veiculo_parado': 'sum',\n",
        "    'pessoa_caida': 'sum'\n",
        "}).reset_index()\n",
        "\n",
        "print(\"\\nSérie Temporal - Evolução das Aglomerações e outros eventos\")\n",
        "print(df_series_temporal)\n",
        "\n",
        "### =====================================\n",
        "### 3. Dados para o Pie Chart - Proporção de Eventos Registrados\n",
        "### =====================================\n",
        "\n",
        "# Soma total de ocorrências para cada evento\n",
        "evento_counts = {\n",
        "    'Aglomeração': df_sensor['aglomeração'].sum(),\n",
        "    'Veículo parado': df_sensor['veiculo_parado'].sum(),\n",
        "    'Pessoa caída': df_sensor['pessoa_caida'].sum()\n",
        "}\n",
        "\n",
        "# Transforma em DataFrame\n",
        "df_pie_chart = pd.DataFrame(list(evento_counts.items()), columns=['evento', 'qtd_ocorrencias'])\n",
        "\n",
        "print(\"\\nPie Chart - Proporção de Eventos Registrados\")\n",
        "print(df_pie_chart)\n"
      ]
    },
    {
      "cell_type": "code",
      "source": [
        "df_sensor.to_csv('sensor_urbano_novo.csv', index=False)\n",
        "\n",
        "# Para baixar o arquivo:\n",
        "from google.colab import files\n",
        "files.download('sensor_urbano_novo.csv')\n"
      ],
      "metadata": {
        "colab": {
          "base_uri": "https://localhost:8080/",
          "height": 17
        },
        "id": "ZPaeAYvEV5uh",
        "outputId": "09c18f1f-23d4-470b-a85c-27f9783b0844"
      },
      "execution_count": 3,
      "outputs": [
        {
          "output_type": "display_data",
          "data": {
            "text/plain": [
              "<IPython.core.display.Javascript object>"
            ],
            "application/javascript": [
              "\n",
              "    async function download(id, filename, size) {\n",
              "      if (!google.colab.kernel.accessAllowed) {\n",
              "        return;\n",
              "      }\n",
              "      const div = document.createElement('div');\n",
              "      const label = document.createElement('label');\n",
              "      label.textContent = `Downloading \"${filename}\": `;\n",
              "      div.appendChild(label);\n",
              "      const progress = document.createElement('progress');\n",
              "      progress.max = size;\n",
              "      div.appendChild(progress);\n",
              "      document.body.appendChild(div);\n",
              "\n",
              "      const buffers = [];\n",
              "      let downloaded = 0;\n",
              "\n",
              "      const channel = await google.colab.kernel.comms.open(id);\n",
              "      // Send a message to notify the kernel that we're ready.\n",
              "      channel.send({})\n",
              "\n",
              "      for await (const message of channel.messages) {\n",
              "        // Send a message to notify the kernel that we're ready.\n",
              "        channel.send({})\n",
              "        if (message.buffers) {\n",
              "          for (const buffer of message.buffers) {\n",
              "            buffers.push(buffer);\n",
              "            downloaded += buffer.byteLength;\n",
              "            progress.value = downloaded;\n",
              "          }\n",
              "        }\n",
              "      }\n",
              "      const blob = new Blob(buffers, {type: 'application/binary'});\n",
              "      const a = document.createElement('a');\n",
              "      a.href = window.URL.createObjectURL(blob);\n",
              "      a.download = filename;\n",
              "      div.appendChild(a);\n",
              "      a.click();\n",
              "      div.remove();\n",
              "    }\n",
              "  "
            ]
          },
          "metadata": {}
        },
        {
          "output_type": "display_data",
          "data": {
            "text/plain": [
              "<IPython.core.display.Javascript object>"
            ],
            "application/javascript": [
              "download(\"download_8b6a13d9-4a74-4d33-913e-7d4bd13186ba\", \"sensor_urbano_novo.csv\", 1805203)"
            ]
          },
          "metadata": {}
        }
      ]
    },
    {
      "cell_type": "code",
      "source": [],
      "metadata": {
        "id": "mVzv5F_-V5sC"
      },
      "execution_count": null,
      "outputs": []
    },
    {
      "cell_type": "code",
      "source": [],
      "metadata": {
        "id": "lF6CWt_yV5px"
      },
      "execution_count": null,
      "outputs": []
    },
    {
      "cell_type": "code",
      "source": [],
      "metadata": {
        "id": "_I-MrdbUV5nZ"
      },
      "execution_count": null,
      "outputs": []
    },
    {
      "cell_type": "code",
      "source": [],
      "metadata": {
        "id": "w8anf0fCV5k5"
      },
      "execution_count": null,
      "outputs": []
    }
  ]
}