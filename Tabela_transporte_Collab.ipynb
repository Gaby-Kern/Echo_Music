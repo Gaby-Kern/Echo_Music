{
  "nbformat": 4,
  "nbformat_minor": 0,
  "metadata": {
    "colab": {
      "provenance": []
    },
    "kernelspec": {
      "name": "python3",
      "display_name": "Python 3"
    },
    "language_info": {
      "name": "python"
    }
  },
  "cells": [
    {
      "cell_type": "code",
      "source": [
        "import pandas as pd\n",
        "import numpy as np\n",
        "from datetime import datetime, timedelta\n",
        "\n",
        "# Parâmetros gerais\n",
        "target_rows = 13000\n",
        "\n",
        "# Linhas e tipos de transporte (exemplos)\n",
        "linhas = [\n",
        "    {\"linha\": \"Metrô 1 - Azul\", \"tipo\": \"metrô\"},\n",
        "    {\"linha\": \"Metrô 2 - Verde\", \"tipo\": \"metrô\"},\n",
        "    {\"linha\": \"Ônibus 512\", \"tipo\": \"ônibus\"},\n",
        "    {\"linha\": \"Ônibus 635\", \"tipo\": \"ônibus\"},\n",
        "    {\"linha\": \"Ônibus 782\", \"tipo\": \"ônibus\"},\n",
        "]\n",
        "\n",
        "sentidos = [\"ida\", \"volta\"]\n",
        "status_possiveis = [\"normal\", \"atrasada\", \"interrompida\"]\n",
        "\n",
        "# Calcular quantas registros por combinação linha+sentido\n",
        "# Total combinações = 5 linhas * 2 sentidos = 10\n",
        "rows_per_comb = target_rows // (len(linhas) * len(sentidos))  # Ex: 13000/10 = 1300 registros por combinação\n",
        "\n",
        "# Tempo entre viagens para atingir a quantidade desejada dentro do intervalo do evento\n",
        "start_time = datetime(2025, 11, 15, 12, 0, 0)  # 3h antes do evento\n",
        "end_time = datetime(2025, 11, 16, 5, 0, 0)     # 3h depois do evento\n",
        "total_minutes = int((end_time - start_time).total_seconds() // 60)\n",
        "# Ajustar freq_minutes para gerar o número correto de registros\n",
        "# freq_minutes = total_minutes / rows_per_comb (aprox)\n",
        "freq_minutes = max(1, total_minutes // rows_per_comb)\n",
        "\n",
        "# Gerar horários previstos baseados no freq_minutes\n",
        "horarios = pd.date_range(start=start_time, end=end_time, freq=f'{freq_minutes}min')\n",
        "\n",
        "records = []\n",
        "id_viagem = 1\n",
        "np.random.seed(42)\n",
        "\n",
        "for linha_info in linhas:\n",
        "    for sentido in sentidos:\n",
        "        # Selecionar só os horários que cabem para a combinação (limitar ao rows_per_comb)\n",
        "        horarios_subset = horarios[:rows_per_comb]\n",
        "        for horario in horarios_subset:\n",
        "            # Simular tempo de viagem\n",
        "            base_tempo = 20 if linha_info[\"tipo\"] == \"metrô\" else 30\n",
        "            if 21 <= horario.hour < 23:\n",
        "                tempo_viagem = base_tempo + np.random.randint(5, 15)\n",
        "            else:\n",
        "                tempo_viagem = base_tempo + np.random.randint(-2, 5)\n",
        "            tempo_viagem = max(5, tempo_viagem)\n",
        "\n",
        "            # Passageiros estimados\n",
        "            if 18 <= horario.hour or horario.hour <= 2:\n",
        "                passageiros = np.random.randint(50, 200) if linha_info[\"tipo\"] == \"ônibus\" else np.random.randint(100, 500)\n",
        "            else:\n",
        "                passageiros = np.random.randint(10, 100) if linha_info[\"tipo\"] == \"ônibus\" else np.random.randint(20, 200)\n",
        "\n",
        "            # Status da linha\n",
        "            status = np.random.choice(status_possiveis, p=[0.8, 0.15, 0.05])\n",
        "\n",
        "            records.append({\n",
        "                \"id_viagem\": id_viagem,\n",
        "                \"linha_transporte\": linha_info[\"linha\"],\n",
        "                \"tipo_transporte\": linha_info[\"tipo\"],\n",
        "                \"horario_previsto\": horario,\n",
        "                \"tempo_viagem_min\": tempo_viagem,\n",
        "                \"passageiros_estimados\": passageiros,\n",
        "                \"status_linha\": status,\n",
        "                \"sentido\": sentido\n",
        "            })\n",
        "            id_viagem += 1\n",
        "\n",
        "# Criar DataFrame\n",
        "df_transporte = pd.DataFrame(records)\n",
        "\n",
        "# Ajuste final: garantir ~13000 linhas\n",
        "print(f\"Total linhas geradas: {len(df_transporte)}\")\n",
        "\n",
        "# Salvar CSV\n",
        "df_transporte.to_csv(\"dados_transporte_evento_13000.csv\", index=False)\n",
        "print(\"Arquivo 'dados_transporte_evento_13000.csv' criado com sucesso!\")\n"
      ],
      "metadata": {
        "colab": {
          "base_uri": "https://localhost:8080/"
        },
        "id": "dEcAtRonZOeD",
        "outputId": "bfcc57b6-82dc-4a55-ac86-6c22f9595a1f"
      },
      "execution_count": 3,
      "outputs": [
        {
          "output_type": "stream",
          "name": "stdout",
          "text": [
            "Total linhas geradas: 10210\n",
            "Arquivo 'dados_transporte_evento_13000.csv' criado com sucesso!\n"
          ]
        }
      ]
    }
  ]
}