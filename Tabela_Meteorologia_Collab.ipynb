{
  "nbformat": 4,
  "nbformat_minor": 0,
  "metadata": {
    "colab": {
      "provenance": []
    },
    "kernelspec": {
      "name": "python3",
      "display_name": "Python 3"
    },
    "language_info": {
      "name": "python"
    }
  },
  "cells": [
    {
      "cell_type": "code",
      "source": [
        "import pandas as pd\n",
        "import numpy as np\n",
        "from datetime import datetime\n",
        "\n",
        "start = datetime(2025, 5, 1)\n",
        "end = datetime(2025, 11, 15, 23, 59)\n",
        "freq_minutes = 7\n",
        "\n",
        "timestamps = pd.date_range(start=start, end=end, freq=f'{freq_minutes}min')\n",
        "np.random.seed(42)\n",
        "\n",
        "n = len(timestamps)\n",
        "\n",
        "temp_base = 20 + 10*np.sin(2 * np.pi * (timestamps.dayofyear / 365))\n",
        "temperatura = temp_base + np.random.normal(0, 3, n)\n",
        "\n",
        "# Só o umidade vem do pandas e precisa converter\n",
        "umidade = 60 + 20*np.sin(2 * np.pi * (timestamps.dayofyear / 365 + 0.25)) + np.random.normal(0, 5, n)\n",
        "umidade = umidade.to_numpy()  # converte para numpy\n",
        "\n",
        "vento = 10 + 5*np.random.rand(n)  # já numpy, sem conversão\n",
        "\n",
        "pressao = 1015 + np.random.normal(0, 3, n)  # já numpy, sem conversão\n",
        "\n",
        "precipitacao = np.zeros(n)\n",
        "\n",
        "chuva_inicio = datetime(2025, 11, 15, 15, 0)\n",
        "chuva_fim = datetime(2025, 11, 15, 22, 0)\n",
        "\n",
        "for i, ts in enumerate(timestamps):\n",
        "    if chuva_inicio <= ts <= chuva_fim:\n",
        "        precipitacao[i] = np.random.uniform(10, 25)\n",
        "        vento[i] += np.random.uniform(5, 15)\n",
        "        pressao[i] -= (chuva_fim - ts).total_seconds()/3600 * 0.5\n",
        "        umidade[i] += np.random.uniform(10, 20)\n",
        "\n",
        "chuva_forte = precipitacao > 10\n",
        "\n",
        "df_meteorologia = pd.DataFrame({\n",
        "    'timestamp': timestamps,\n",
        "    'temperatura_C': np.round(temperatura, 1),\n",
        "    'umidade_%': np.clip(np.round(umidade, 1), 0, 100),\n",
        "    'vento_kmh': np.round(vento, 1),\n",
        "    'pressao_hPa': np.round(pressao, 1),\n",
        "    'precipitacao_mm_h': np.round(precipitacao, 1),\n",
        "    'chuva_forte': chuva_forte\n",
        "})\n",
        "\n",
        "print(f\"Total de linhas: {len(df_meteorologia)}\")\n",
        "print(df_meteorologia.head(10))\n",
        "\n",
        "df_meteorologia.to_csv('meteorologia_evento_12000.csv', index=False)\n",
        "print(\"Arquivo criado: meteorologia_evento_12000.csv\")\n"
      ],
      "metadata": {
        "colab": {
          "base_uri": "https://localhost:8080/"
        },
        "id": "AMQ2fj7mcMkk",
        "outputId": "3ec0566b-49e0-4586-9bd4-07e7ff2cfb15"
      },
      "execution_count": 7,
      "outputs": [
        {
          "output_type": "stream",
          "name": "stdout",
          "text": [
            "Total de linhas: 40938\n",
            "            timestamp  temperatura_C  umidade_%  vento_kmh  pressao_hPa  \\\n",
            "0 2025-05-01 00:00:00           30.2       50.7       13.3       1014.0   \n",
            "1 2025-05-01 00:07:00           28.3       54.4       15.0       1018.5   \n",
            "2 2025-05-01 00:14:00           30.7       52.5       11.5       1013.5   \n",
            "3 2025-05-01 00:21:00           33.3       47.3       12.3       1012.6   \n",
            "4 2025-05-01 00:28:00           28.0       51.7       10.7       1017.4   \n",
            "5 2025-05-01 00:35:00           28.0       40.3       14.4       1019.4   \n",
            "6 2025-05-01 00:42:00           33.5       50.2       12.8       1010.3   \n",
            "7 2025-05-01 00:49:00           31.0       47.1       10.5       1020.0   \n",
            "8 2025-05-01 00:56:00           27.3       57.8       13.0       1017.7   \n",
            "9 2025-05-01 01:03:00           30.3       45.3       12.3       1017.5   \n",
            "\n",
            "   precipitacao_mm_h  chuva_forte  \n",
            "0                0.0        False  \n",
            "1                0.0        False  \n",
            "2                0.0        False  \n",
            "3                0.0        False  \n",
            "4                0.0        False  \n",
            "5                0.0        False  \n",
            "6                0.0        False  \n",
            "7                0.0        False  \n",
            "8                0.0        False  \n",
            "9                0.0        False  \n",
            "Arquivo criado: meteorologia_evento_12000.csv\n"
          ]
        }
      ]
    }
  ]
}