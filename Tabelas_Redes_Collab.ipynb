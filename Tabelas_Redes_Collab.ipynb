{
  "nbformat": 4,
  "nbformat_minor": 0,
  "metadata": {
    "colab": {
      "provenance": []
    },
    "kernelspec": {
      "name": "python3",
      "display_name": "Python 3"
    },
    "language_info": {
      "name": "python"
    }
  },
  "cells": [
    {
      "cell_type": "code",
      "source": [
        "import pandas as pd\n",
        "from google.colab import files\n",
        "\n",
        "# Upload paxarinho_posts\n",
        "uploaded = files.upload()\n",
        "\n",
        "# Visualizar colunas\n",
        "df = pd.read_csv('paxarinho_posts.csv')\n",
        "print(df.columns)"
      ],
      "metadata": {
        "colab": {
          "base_uri": "https://localhost:8080/",
          "height": 142
        },
        "id": "Q96m8s4tq-MG",
        "outputId": "f20716ca-1957-42aa-f12a-bf54049be472"
      },
      "execution_count": null,
      "outputs": [
        {
          "output_type": "display_data",
          "data": {
            "text/plain": [
              "<IPython.core.display.HTML object>"
            ],
            "text/html": [
              "\n",
              "     <input type=\"file\" id=\"files-b4b05817-7d36-443d-953b-9cb54f28ae04\" name=\"files[]\" multiple disabled\n",
              "        style=\"border:none\" />\n",
              "     <output id=\"result-b4b05817-7d36-443d-953b-9cb54f28ae04\">\n",
              "      Upload widget is only available when the cell has been executed in the\n",
              "      current browser session. Please rerun this cell to enable.\n",
              "      </output>\n",
              "      <script>// Copyright 2017 Google LLC\n",
              "//\n",
              "// Licensed under the Apache License, Version 2.0 (the \"License\");\n",
              "// you may not use this file except in compliance with the License.\n",
              "// You may obtain a copy of the License at\n",
              "//\n",
              "//      http://www.apache.org/licenses/LICENSE-2.0\n",
              "//\n",
              "// Unless required by applicable law or agreed to in writing, software\n",
              "// distributed under the License is distributed on an \"AS IS\" BASIS,\n",
              "// WITHOUT WARRANTIES OR CONDITIONS OF ANY KIND, either express or implied.\n",
              "// See the License for the specific language governing permissions and\n",
              "// limitations under the License.\n",
              "\n",
              "/**\n",
              " * @fileoverview Helpers for google.colab Python module.\n",
              " */\n",
              "(function(scope) {\n",
              "function span(text, styleAttributes = {}) {\n",
              "  const element = document.createElement('span');\n",
              "  element.textContent = text;\n",
              "  for (const key of Object.keys(styleAttributes)) {\n",
              "    element.style[key] = styleAttributes[key];\n",
              "  }\n",
              "  return element;\n",
              "}\n",
              "\n",
              "// Max number of bytes which will be uploaded at a time.\n",
              "const MAX_PAYLOAD_SIZE = 100 * 1024;\n",
              "\n",
              "function _uploadFiles(inputId, outputId) {\n",
              "  const steps = uploadFilesStep(inputId, outputId);\n",
              "  const outputElement = document.getElementById(outputId);\n",
              "  // Cache steps on the outputElement to make it available for the next call\n",
              "  // to uploadFilesContinue from Python.\n",
              "  outputElement.steps = steps;\n",
              "\n",
              "  return _uploadFilesContinue(outputId);\n",
              "}\n",
              "\n",
              "// This is roughly an async generator (not supported in the browser yet),\n",
              "// where there are multiple asynchronous steps and the Python side is going\n",
              "// to poll for completion of each step.\n",
              "// This uses a Promise to block the python side on completion of each step,\n",
              "// then passes the result of the previous step as the input to the next step.\n",
              "function _uploadFilesContinue(outputId) {\n",
              "  const outputElement = document.getElementById(outputId);\n",
              "  const steps = outputElement.steps;\n",
              "\n",
              "  const next = steps.next(outputElement.lastPromiseValue);\n",
              "  return Promise.resolve(next.value.promise).then((value) => {\n",
              "    // Cache the last promise value to make it available to the next\n",
              "    // step of the generator.\n",
              "    outputElement.lastPromiseValue = value;\n",
              "    return next.value.response;\n",
              "  });\n",
              "}\n",
              "\n",
              "/**\n",
              " * Generator function which is called between each async step of the upload\n",
              " * process.\n",
              " * @param {string} inputId Element ID of the input file picker element.\n",
              " * @param {string} outputId Element ID of the output display.\n",
              " * @return {!Iterable<!Object>} Iterable of next steps.\n",
              " */\n",
              "function* uploadFilesStep(inputId, outputId) {\n",
              "  const inputElement = document.getElementById(inputId);\n",
              "  inputElement.disabled = false;\n",
              "\n",
              "  const outputElement = document.getElementById(outputId);\n",
              "  outputElement.innerHTML = '';\n",
              "\n",
              "  const pickedPromise = new Promise((resolve) => {\n",
              "    inputElement.addEventListener('change', (e) => {\n",
              "      resolve(e.target.files);\n",
              "    });\n",
              "  });\n",
              "\n",
              "  const cancel = document.createElement('button');\n",
              "  inputElement.parentElement.appendChild(cancel);\n",
              "  cancel.textContent = 'Cancel upload';\n",
              "  const cancelPromise = new Promise((resolve) => {\n",
              "    cancel.onclick = () => {\n",
              "      resolve(null);\n",
              "    };\n",
              "  });\n",
              "\n",
              "  // Wait for the user to pick the files.\n",
              "  const files = yield {\n",
              "    promise: Promise.race([pickedPromise, cancelPromise]),\n",
              "    response: {\n",
              "      action: 'starting',\n",
              "    }\n",
              "  };\n",
              "\n",
              "  cancel.remove();\n",
              "\n",
              "  // Disable the input element since further picks are not allowed.\n",
              "  inputElement.disabled = true;\n",
              "\n",
              "  if (!files) {\n",
              "    return {\n",
              "      response: {\n",
              "        action: 'complete',\n",
              "      }\n",
              "    };\n",
              "  }\n",
              "\n",
              "  for (const file of files) {\n",
              "    const li = document.createElement('li');\n",
              "    li.append(span(file.name, {fontWeight: 'bold'}));\n",
              "    li.append(span(\n",
              "        `(${file.type || 'n/a'}) - ${file.size} bytes, ` +\n",
              "        `last modified: ${\n",
              "            file.lastModifiedDate ? file.lastModifiedDate.toLocaleDateString() :\n",
              "                                    'n/a'} - `));\n",
              "    const percent = span('0% done');\n",
              "    li.appendChild(percent);\n",
              "\n",
              "    outputElement.appendChild(li);\n",
              "\n",
              "    const fileDataPromise = new Promise((resolve) => {\n",
              "      const reader = new FileReader();\n",
              "      reader.onload = (e) => {\n",
              "        resolve(e.target.result);\n",
              "      };\n",
              "      reader.readAsArrayBuffer(file);\n",
              "    });\n",
              "    // Wait for the data to be ready.\n",
              "    let fileData = yield {\n",
              "      promise: fileDataPromise,\n",
              "      response: {\n",
              "        action: 'continue',\n",
              "      }\n",
              "    };\n",
              "\n",
              "    // Use a chunked sending to avoid message size limits. See b/62115660.\n",
              "    let position = 0;\n",
              "    do {\n",
              "      const length = Math.min(fileData.byteLength - position, MAX_PAYLOAD_SIZE);\n",
              "      const chunk = new Uint8Array(fileData, position, length);\n",
              "      position += length;\n",
              "\n",
              "      const base64 = btoa(String.fromCharCode.apply(null, chunk));\n",
              "      yield {\n",
              "        response: {\n",
              "          action: 'append',\n",
              "          file: file.name,\n",
              "          data: base64,\n",
              "        },\n",
              "      };\n",
              "\n",
              "      let percentDone = fileData.byteLength === 0 ?\n",
              "          100 :\n",
              "          Math.round((position / fileData.byteLength) * 100);\n",
              "      percent.textContent = `${percentDone}% done`;\n",
              "\n",
              "    } while (position < fileData.byteLength);\n",
              "  }\n",
              "\n",
              "  // All done.\n",
              "  yield {\n",
              "    response: {\n",
              "      action: 'complete',\n",
              "    }\n",
              "  };\n",
              "}\n",
              "\n",
              "scope.google = scope.google || {};\n",
              "scope.google.colab = scope.google.colab || {};\n",
              "scope.google.colab._files = {\n",
              "  _uploadFiles,\n",
              "  _uploadFilesContinue,\n",
              "};\n",
              "})(self);\n",
              "</script> "
            ]
          },
          "metadata": {}
        },
        {
          "output_type": "stream",
          "name": "stdout",
          "text": [
            "Saving paxarinho_posts.csv to paxarinho_posts (1).csv\n",
            "Index(['id_post', 'id_user', 'data_postagem', 'categoria_comentario',\n",
            "       'texto_comentario', 'total_reacoes', 'tempo_restante_para_o_evento',\n",
            "       'indicador_risco'],\n",
            "      dtype='object')\n"
          ]
        }
      ]
    },
    {
      "cell_type": "code",
      "source": [
        "import pandas as pd\n",
        "\n",
        "# Ler o arquivo\n",
        "df = pd.read_csv('paxarinho_posts.csv')\n",
        "\n",
        "# Criar colunas novas\n",
        "df['comentario_positivo'] = (df['categoria_comentario'] == 'positivo').astype(int)\n",
        "df['comentario_negativo'] = (df['categoria_comentario'] == 'negativo').astype(int)\n",
        "df['total_comentarios'] = 1  # cada linha é um comentário\n",
        "\n",
        "# Salvar com as colunas novas\n",
        "df.to_csv('paxarinho_posts_com_calculos.csv', index=False)\n",
        "\n",
        "# Mostrar amostra\n",
        "print(df[['categoria_comentario', 'comentario_positivo', 'comentario_negativo', 'total_comentarios']].head(10))\n"
      ],
      "metadata": {
        "colab": {
          "base_uri": "https://localhost:8080/"
        },
        "collapsed": true,
        "id": "7KNa3oQN4iPw",
        "outputId": "5afc2fce-c4e1-4994-af80-22736e97e9e9"
      },
      "execution_count": null,
      "outputs": [
        {
          "output_type": "stream",
          "name": "stdout",
          "text": [
            "  categoria_comentario  comentario_positivo  comentario_negativo  \\\n",
            "0             positivo                    1                    0   \n",
            "1               neutro                    0                    0   \n",
            "2             negativo                    0                    1   \n",
            "3               neutro                    0                    0   \n",
            "4             negativo                    0                    1   \n",
            "5             negativo                    0                    1   \n",
            "6             negativo                    0                    1   \n",
            "7               neutro                    0                    0   \n",
            "8               neutro                    0                    0   \n",
            "9               neutro                    0                    0   \n",
            "\n",
            "   total_comentarios  \n",
            "0                  1  \n",
            "1                  1  \n",
            "2                  1  \n",
            "3                  1  \n",
            "4                  1  \n",
            "5                  1  \n",
            "6                  1  \n",
            "7                  1  \n",
            "8                  1  \n",
            "9                  1  \n"
          ]
        }
      ]
    },
    {
      "cell_type": "code",
      "source": [
        "import pandas as pd\n",
        "\n",
        "# Ler o arquivo\n",
        "df = pd.read_csv('livroface_posts.csv')\n",
        "\n",
        "# Criar colunas novas\n",
        "df['comentario_positivo'] = (df['categoria_comentario'] == 'positivo').astype(int)\n",
        "df['comentario_negativo'] = (df['categoria_comentario'] == 'negativo').astype(int)\n",
        "df['total_comentarios'] = 1  # cada linha é um comentário\n",
        "\n",
        "# Salvar com as colunas novas\n",
        "df.to_csv('livroface_posts_com_calculos.csv', index=False)\n",
        "\n",
        "# Mostrar amostra\n",
        "print(df[['categoria_comentario', 'comentario_positivo', 'comentario_negativo', 'total_comentarios']].head(10))\n"
      ],
      "metadata": {
        "id": "3COti2au5rXQ",
        "outputId": "c361abbe-2779-4eb2-aecf-d9caaa94f21f",
        "colab": {
          "base_uri": "https://localhost:8080/"
        },
        "collapsed": true
      },
      "execution_count": null,
      "outputs": [
        {
          "output_type": "stream",
          "name": "stdout",
          "text": [
            "  categoria_comentario  comentario_positivo  comentario_negativo  \\\n",
            "0             negativo                    0                    1   \n",
            "1               neutro                    0                    0   \n",
            "2             positivo                    1                    0   \n",
            "3             negativo                    0                    1   \n",
            "4               neutro                    0                    0   \n",
            "5               neutro                    0                    0   \n",
            "6             positivo                    1                    0   \n",
            "7             negativo                    0                    1   \n",
            "8               neutro                    0                    0   \n",
            "9               neutro                    0                    0   \n",
            "\n",
            "   total_comentarios  \n",
            "0                  1  \n",
            "1                  1  \n",
            "2                  1  \n",
            "3                  1  \n",
            "4                  1  \n",
            "5                  1  \n",
            "6                  1  \n",
            "7                  1  \n",
            "8                  1  \n",
            "9                  1  \n"
          ]
        }
      ]
    },
    {
      "cell_type": "code",
      "source": [
        "import pandas as pd\n",
        "\n",
        "# Substitua o caminho do arquivo pelo caminho correto\n",
        "livroface_posts = pd.read_csv('livroface_posts.csv')\n",
        "paxarinho_posts = pd.read_csv('paxarinho_posts.csv')\n"
      ],
      "metadata": {
        "id": "M9i4iUUmGJdb"
      },
      "execution_count": 2,
      "outputs": []
    },
    {
      "cell_type": "code",
      "source": [
        "import pandas as pd\n",
        "from google.colab import files\n",
        "\n",
        "# --- Paxarinho: Agrupar, salvar e baixar ---\n",
        "\n",
        "# Agrupar paxarinho_posts por data e categoria\n",
        "paxarinho_agrupado = paxarinho_posts.groupby(\n",
        "    ['data_postagem', 'categoria_comentario']\n",
        ").size().reset_index(name='quantidade')\n",
        "\n",
        "# Salvar como CSV\n",
        "paxarinho_agrupado.to_csv('paxarinho_posts_agrupado.csv', index=False)\n",
        "\n",
        "# Baixar para o PC\n",
        "files.download('paxarinho_posts_agrupado.csv')\n",
        "\n",
        "# --- Livroface: Agrupar, salvar e baixar ---\n",
        "\n",
        "# Agrupar livroface_posts por data e categoria\n",
        "livroface_agrupado = livroface_posts.groupby(\n",
        "    ['data_postagem', 'categoria_comentario']\n",
        ").size().reset_index(name='quantidade')\n",
        "\n",
        "# Salvar como CSV\n",
        "livroface_agrupado.to_csv('livroface_posts_agrupado.csv', index=False)\n",
        "\n",
        "# Baixar para o PC\n",
        "files.download('livroface_posts_agrupado.csv')\n"
      ],
      "metadata": {
        "colab": {
          "base_uri": "https://localhost:8080/",
          "height": 17
        },
        "id": "tyux9-wPGJYr",
        "outputId": "3327afb6-c88e-46d9-e44a-c3964e72acee"
      },
      "execution_count": 5,
      "outputs": [
        {
          "output_type": "display_data",
          "data": {
            "text/plain": [
              "<IPython.core.display.Javascript object>"
            ],
            "application/javascript": [
              "\n",
              "    async function download(id, filename, size) {\n",
              "      if (!google.colab.kernel.accessAllowed) {\n",
              "        return;\n",
              "      }\n",
              "      const div = document.createElement('div');\n",
              "      const label = document.createElement('label');\n",
              "      label.textContent = `Downloading \"${filename}\": `;\n",
              "      div.appendChild(label);\n",
              "      const progress = document.createElement('progress');\n",
              "      progress.max = size;\n",
              "      div.appendChild(progress);\n",
              "      document.body.appendChild(div);\n",
              "\n",
              "      const buffers = [];\n",
              "      let downloaded = 0;\n",
              "\n",
              "      const channel = await google.colab.kernel.comms.open(id);\n",
              "      // Send a message to notify the kernel that we're ready.\n",
              "      channel.send({})\n",
              "\n",
              "      for await (const message of channel.messages) {\n",
              "        // Send a message to notify the kernel that we're ready.\n",
              "        channel.send({})\n",
              "        if (message.buffers) {\n",
              "          for (const buffer of message.buffers) {\n",
              "            buffers.push(buffer);\n",
              "            downloaded += buffer.byteLength;\n",
              "            progress.value = downloaded;\n",
              "          }\n",
              "        }\n",
              "      }\n",
              "      const blob = new Blob(buffers, {type: 'application/binary'});\n",
              "      const a = document.createElement('a');\n",
              "      a.href = window.URL.createObjectURL(blob);\n",
              "      a.download = filename;\n",
              "      div.appendChild(a);\n",
              "      a.click();\n",
              "      div.remove();\n",
              "    }\n",
              "  "
            ]
          },
          "metadata": {}
        },
        {
          "output_type": "display_data",
          "data": {
            "text/plain": [
              "<IPython.core.display.Javascript object>"
            ],
            "application/javascript": [
              "download(\"download_ff453c6c-16ed-42e8-8fa4-e068cc41cc8b\", \"paxarinho_posts_agrupado.csv\", 13479)"
            ]
          },
          "metadata": {}
        },
        {
          "output_type": "display_data",
          "data": {
            "text/plain": [
              "<IPython.core.display.Javascript object>"
            ],
            "application/javascript": [
              "\n",
              "    async function download(id, filename, size) {\n",
              "      if (!google.colab.kernel.accessAllowed) {\n",
              "        return;\n",
              "      }\n",
              "      const div = document.createElement('div');\n",
              "      const label = document.createElement('label');\n",
              "      label.textContent = `Downloading \"${filename}\": `;\n",
              "      div.appendChild(label);\n",
              "      const progress = document.createElement('progress');\n",
              "      progress.max = size;\n",
              "      div.appendChild(progress);\n",
              "      document.body.appendChild(div);\n",
              "\n",
              "      const buffers = [];\n",
              "      let downloaded = 0;\n",
              "\n",
              "      const channel = await google.colab.kernel.comms.open(id);\n",
              "      // Send a message to notify the kernel that we're ready.\n",
              "      channel.send({})\n",
              "\n",
              "      for await (const message of channel.messages) {\n",
              "        // Send a message to notify the kernel that we're ready.\n",
              "        channel.send({})\n",
              "        if (message.buffers) {\n",
              "          for (const buffer of message.buffers) {\n",
              "            buffers.push(buffer);\n",
              "            downloaded += buffer.byteLength;\n",
              "            progress.value = downloaded;\n",
              "          }\n",
              "        }\n",
              "      }\n",
              "      const blob = new Blob(buffers, {type: 'application/binary'});\n",
              "      const a = document.createElement('a');\n",
              "      a.href = window.URL.createObjectURL(blob);\n",
              "      a.download = filename;\n",
              "      div.appendChild(a);\n",
              "      a.click();\n",
              "      div.remove();\n",
              "    }\n",
              "  "
            ]
          },
          "metadata": {}
        },
        {
          "output_type": "display_data",
          "data": {
            "text/plain": [
              "<IPython.core.display.Javascript object>"
            ],
            "application/javascript": [
              "download(\"download_19c1104d-e5e3-40e0-8210-048d24b3ff93\", \"livroface_posts_agrupado.csv\", 13379)"
            ]
          },
          "metadata": {}
        }
      ]
    },
    {
      "cell_type": "code",
      "source": [
        "# Filtrar apenas os comentários negativos\n",
        "paxarinho_negativos = paxarinho_posts[paxarinho_posts['categoria_comentario'] == 'negativo'][['data_postagem', 'total_reacoes']]\n",
        "\n",
        "livroface_negativos = livroface_posts[livroface_posts['categoria_comentario'] == 'negativo'][['data_postagem', 'total_reacoes']]\n",
        "\n",
        "# Salvar como CSV\n",
        "paxarinho_negativos.to_csv('paxarinho_negativos.csv', index=False)\n",
        "livroface_negativos.to_csv('livroface_negativos.csv', index=False)\n",
        "\n",
        "# Baixar os arquivos\n",
        "from google.colab import files\n",
        "files.download('paxarinho_negativos.csv')\n",
        "files.download('livroface_negativos.csv')\n"
      ],
      "metadata": {
        "colab": {
          "base_uri": "https://localhost:8080/",
          "height": 17
        },
        "id": "-KI0ufjAGJVz",
        "outputId": "44ef23cd-7c6d-4c18-c1ac-3793c616f901"
      },
      "execution_count": 6,
      "outputs": [
        {
          "output_type": "display_data",
          "data": {
            "text/plain": [
              "<IPython.core.display.Javascript object>"
            ],
            "application/javascript": [
              "\n",
              "    async function download(id, filename, size) {\n",
              "      if (!google.colab.kernel.accessAllowed) {\n",
              "        return;\n",
              "      }\n",
              "      const div = document.createElement('div');\n",
              "      const label = document.createElement('label');\n",
              "      label.textContent = `Downloading \"${filename}\": `;\n",
              "      div.appendChild(label);\n",
              "      const progress = document.createElement('progress');\n",
              "      progress.max = size;\n",
              "      div.appendChild(progress);\n",
              "      document.body.appendChild(div);\n",
              "\n",
              "      const buffers = [];\n",
              "      let downloaded = 0;\n",
              "\n",
              "      const channel = await google.colab.kernel.comms.open(id);\n",
              "      // Send a message to notify the kernel that we're ready.\n",
              "      channel.send({})\n",
              "\n",
              "      for await (const message of channel.messages) {\n",
              "        // Send a message to notify the kernel that we're ready.\n",
              "        channel.send({})\n",
              "        if (message.buffers) {\n",
              "          for (const buffer of message.buffers) {\n",
              "            buffers.push(buffer);\n",
              "            downloaded += buffer.byteLength;\n",
              "            progress.value = downloaded;\n",
              "          }\n",
              "        }\n",
              "      }\n",
              "      const blob = new Blob(buffers, {type: 'application/binary'});\n",
              "      const a = document.createElement('a');\n",
              "      a.href = window.URL.createObjectURL(blob);\n",
              "      a.download = filename;\n",
              "      div.appendChild(a);\n",
              "      a.click();\n",
              "      div.remove();\n",
              "    }\n",
              "  "
            ]
          },
          "metadata": {}
        },
        {
          "output_type": "display_data",
          "data": {
            "text/plain": [
              "<IPython.core.display.Javascript object>"
            ],
            "application/javascript": [
              "download(\"download_dc5f4695-f386-49ec-b827-fd4d04c7467a\", \"paxarinho_negativos.csv\", 111580)"
            ]
          },
          "metadata": {}
        },
        {
          "output_type": "display_data",
          "data": {
            "text/plain": [
              "<IPython.core.display.Javascript object>"
            ],
            "application/javascript": [
              "\n",
              "    async function download(id, filename, size) {\n",
              "      if (!google.colab.kernel.accessAllowed) {\n",
              "        return;\n",
              "      }\n",
              "      const div = document.createElement('div');\n",
              "      const label = document.createElement('label');\n",
              "      label.textContent = `Downloading \"${filename}\": `;\n",
              "      div.appendChild(label);\n",
              "      const progress = document.createElement('progress');\n",
              "      progress.max = size;\n",
              "      div.appendChild(progress);\n",
              "      document.body.appendChild(div);\n",
              "\n",
              "      const buffers = [];\n",
              "      let downloaded = 0;\n",
              "\n",
              "      const channel = await google.colab.kernel.comms.open(id);\n",
              "      // Send a message to notify the kernel that we're ready.\n",
              "      channel.send({})\n",
              "\n",
              "      for await (const message of channel.messages) {\n",
              "        // Send a message to notify the kernel that we're ready.\n",
              "        channel.send({})\n",
              "        if (message.buffers) {\n",
              "          for (const buffer of message.buffers) {\n",
              "            buffers.push(buffer);\n",
              "            downloaded += buffer.byteLength;\n",
              "            progress.value = downloaded;\n",
              "          }\n",
              "        }\n",
              "      }\n",
              "      const blob = new Blob(buffers, {type: 'application/binary'});\n",
              "      const a = document.createElement('a');\n",
              "      a.href = window.URL.createObjectURL(blob);\n",
              "      a.download = filename;\n",
              "      div.appendChild(a);\n",
              "      a.click();\n",
              "      div.remove();\n",
              "    }\n",
              "  "
            ]
          },
          "metadata": {}
        },
        {
          "output_type": "display_data",
          "data": {
            "text/plain": [
              "<IPython.core.display.Javascript object>"
            ],
            "application/javascript": [
              "download(\"download_95aa1f29-ce08-44eb-b326-243bf9d256b3\", \"livroface_negativos.csv\", 83538)"
            ]
          },
          "metadata": {}
        }
      ]
    },
    {
      "cell_type": "code",
      "source": [
        "def calcular_estatisticas_por_tempo(df, nome_df):\n",
        "    # Garantir que data_postagem é datetime\n",
        "    df['data_postagem'] = pd.to_datetime(df['data_postagem'])\n",
        "\n",
        "    resultados = []\n",
        "\n",
        "    # Agrupar por data_postagem e categoria_comentario\n",
        "    grupos = df.groupby(['data_postagem', 'categoria_comentario'])\n",
        "\n",
        "    for (data, categoria), grupo in grupos:\n",
        "        q1 = grupo['total_reacoes'].quantile(0.25)\n",
        "        median = grupo['total_reacoes'].median()\n",
        "        q3 = grupo['total_reacoes'].quantile(0.75)\n",
        "        min_val = grupo['total_reacoes'].min()\n",
        "        max_val = grupo['total_reacoes'].max()\n",
        "        total_reacoes = grupo['total_reacoes'].sum()\n",
        "\n",
        "        resultados.append({\n",
        "            'data_postagem': data,\n",
        "            'Categoria': categoria,\n",
        "            'Min': min_val,\n",
        "            'Q1': q1,\n",
        "            'Mediana': median,\n",
        "            'Q3': q3,\n",
        "            'Max': max_val,\n",
        "            'Total_Reacoes': total_reacoes\n",
        "        })\n",
        "\n",
        "    df_resultados = pd.DataFrame(resultados)\n",
        "\n",
        "    nome_arquivo = f\"{nome_df}_estatisticas_por_tempo.csv\"\n",
        "    df_resultados.to_csv(nome_arquivo, index=False)\n",
        "    print(f\"✅ Arquivo '{nome_arquivo}' exportado com sucesso!\")\n",
        "\n",
        "    return df_resultados\n",
        "\n",
        "# Gerando os DataFrames detalhados\n",
        "livroface_estatisticas = calcular_estatisticas_por_tempo(livroface_posts, \"livroface_posts\")\n",
        "paxarinho_estatisticas = calcular_estatisticas_por_tempo(paxarinho_posts, \"paxarinho_posts\")\n"
      ],
      "metadata": {
        "colab": {
          "base_uri": "https://localhost:8080/"
        },
        "id": "cpkI76yGGJS5",
        "outputId": "9655ea34-eaf8-4fa1-f6bb-15a2f9c87a23"
      },
      "execution_count": 9,
      "outputs": [
        {
          "output_type": "stream",
          "name": "stdout",
          "text": [
            "✅ Arquivo 'livroface_posts_estatisticas_por_tempo.csv' exportado com sucesso!\n",
            "✅ Arquivo 'paxarinho_posts_estatisticas_por_tempo.csv' exportado com sucesso!\n"
          ]
        }
      ]
    },
    {
      "cell_type": "code",
      "source": [],
      "metadata": {
        "id": "OAAJ_zaUGJL6"
      },
      "execution_count": null,
      "outputs": []
    }
  ]
}